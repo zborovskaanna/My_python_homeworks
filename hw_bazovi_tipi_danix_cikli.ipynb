{
 "cells": [
  {
   "cell_type": "markdown",
   "id": "5b1cae7d",
   "metadata": {},
   "source": [
    "1.Задане значення у змінній var. Перетворіть значення в змінній var на цілочисельне, запишіть в нову змінну `var_int` та виведіть тип нової змінної `var_int`."
   ]
  },
  {
   "cell_type": "code",
   "execution_count": 2,
   "id": "d93f77ed",
   "metadata": {
    "ExecuteTime": {
     "end_time": "2023-06-13T11:52:35.489925Z",
     "start_time": "2023-06-13T11:52:35.487238Z"
    }
   },
   "outputs": [],
   "source": [
    "var = '1224'"
   ]
  },
  {
   "cell_type": "code",
   "execution_count": 3,
   "id": "5a4afe8f",
   "metadata": {},
   "outputs": [
    {
     "name": "stdout",
     "output_type": "stream",
     "text": [
      "1224\n"
     ]
    }
   ],
   "source": [
    "var_int = int(var)\n",
    "print(var_int)"
   ]
  },
  {
   "cell_type": "code",
   "execution_count": 4,
   "id": "d3f16a8f",
   "metadata": {},
   "outputs": [
    {
     "data": {
      "text/plain": [
       "int"
      ]
     },
     "execution_count": 4,
     "metadata": {},
     "output_type": "execute_result"
    }
   ],
   "source": [
    "type(var_int)"
   ]
  },
  {
   "cell_type": "markdown",
   "id": "eb3d19d8",
   "metadata": {
    "ExecuteTime": {
     "end_time": "2023-06-13T13:00:19.611699Z",
     "start_time": "2023-06-13T13:00:19.607737Z"
    }
   },
   "source": [
    "2.У Вас є список слів. Виведіть кожне третє слово в списку."
   ]
  },
  {
   "cell_type": "code",
   "execution_count": 3,
   "id": "477f4ced",
   "metadata": {
    "ExecuteTime": {
     "end_time": "2023-06-13T13:00:02.052801Z",
     "start_time": "2023-06-13T13:00:02.048798Z"
    }
   },
   "outputs": [],
   "source": [
    "words = [\"apple\", \"banana\", \"cherry\", \"date\", \"elderberry\", \"fig\", \"grape\", \"honeydew\", \"ice cream\", \"jackfruit\", \"kiwi\", \"lemon\", \"mango\", \"nectarine\", \"orange\", \"pineapple\", \"quince\", \"raspberry\", \"strawberry\", \"tangerine\", \"ugli fruit\", \"vanilla\", \"watermelon\", \"xigua\", \"yam\", \"zucchini\"]"
   ]
  },
  {
   "cell_type": "code",
   "execution_count": 4,
   "id": "1b73ca2f",
   "metadata": {},
   "outputs": [
    {
     "data": {
      "text/plain": [
       "['cherry',\n",
       " 'fig',\n",
       " 'ice cream',\n",
       " 'lemon',\n",
       " 'orange',\n",
       " 'raspberry',\n",
       " 'ugli fruit',\n",
       " 'xigua']"
      ]
     },
     "execution_count": 4,
     "metadata": {},
     "output_type": "execute_result"
    }
   ],
   "source": [
    "len(words)\n",
    "words[2:27:3]"
   ]
  },
  {
   "cell_type": "markdown",
   "id": "394d1dea",
   "metadata": {},
   "source": [
    "3.Скільки всього СЛІВ у списку `words`?"
   ]
  },
  {
   "cell_type": "code",
   "execution_count": 5,
   "id": "83c88182",
   "metadata": {},
   "outputs": [
    {
     "name": "stdout",
     "output_type": "stream",
     "text": [
      "apple banana cherry date elderberry fig grape honeydew ice cream jackfruit kiwi lemon mango nectarine orange pineapple quince raspberry strawberry tangerine ugli fruit vanilla watermelon xigua yam zucchini\n"
     ]
    }
   ],
   "source": [
    "words_str = \" \".join(words)\n",
    "print(words_str)"
   ]
  },
  {
   "cell_type": "code",
   "execution_count": 6,
   "id": "31d1f4ac",
   "metadata": {},
   "outputs": [
    {
     "name": "stdout",
     "output_type": "stream",
     "text": [
      "['apple', 'banana', 'cherry', 'date', 'elderberry', 'fig', 'grape', 'honeydew', 'ice', 'cream', 'jackfruit', 'kiwi', 'lemon', 'mango', 'nectarine', 'orange', 'pineapple', 'quince', 'raspberry', 'strawberry', 'tangerine', 'ugli', 'fruit', 'vanilla', 'watermelon', 'xigua', 'yam', 'zucchini']\n"
     ]
    }
   ],
   "source": [
    "words_2 = words_str.split()\n",
    "print(words_2)"
   ]
  },
  {
   "cell_type": "code",
   "execution_count": 7,
   "id": "b13e7676",
   "metadata": {},
   "outputs": [
    {
     "data": {
      "text/plain": [
       "28"
      ]
     },
     "execution_count": 7,
     "metadata": {},
     "output_type": "execute_result"
    }
   ],
   "source": [
    "len(words_2)"
   ]
  },
  {
   "cell_type": "markdown",
   "id": "703d1620",
   "metadata": {
    "ExecuteTime": {
     "end_time": "2023-06-13T13:03:17.414285Z",
     "start_time": "2023-06-13T13:03:17.409285Z"
    }
   },
   "source": [
    "4.Скільки всього ЛІТЕР в усіх словах у списку words?"
   ]
  },
  {
   "cell_type": "code",
   "execution_count": 8,
   "id": "f55ef433",
   "metadata": {},
   "outputs": [
    {
     "name": "stdout",
     "output_type": "stream",
     "text": [
      "178\n"
     ]
    }
   ],
   "source": [
    "char_count = 0\n",
    "\n",
    "for i in words_str:\n",
    "    if i.isalpha():\n",
    "        char_count +=1\n",
    "print(char_count)"
   ]
  },
  {
   "cell_type": "markdown",
   "id": "4c95f6a3",
   "metadata": {},
   "source": [
    "5.Скільки разів зустрічається кожна літера в усіх словах списку `words`? Відсортуйте літери в результуючому словнику за алфавітним порядком."
   ]
  },
  {
   "cell_type": "code",
   "execution_count": 20,
   "id": "f6cff6cb",
   "metadata": {},
   "outputs": [
    {
     "data": {
      "text/plain": [
       "{'a': 20,\n",
       " 'b': 4,\n",
       " 'c': 8,\n",
       " 'd': 3,\n",
       " 'e': 24,\n",
       " 'f': 3,\n",
       " 'g': 7,\n",
       " 'h': 3,\n",
       " 'i': 15,\n",
       " 'j': 1,\n",
       " 'k': 2,\n",
       " 'l': 8,\n",
       " 'm': 5,\n",
       " 'n': 15,\n",
       " 'o': 5,\n",
       " 'p': 7,\n",
       " 'q': 1,\n",
       " 'r': 19,\n",
       " 's': 2,\n",
       " 't': 7,\n",
       " 'u': 6,\n",
       " 'v': 1,\n",
       " 'w': 4,\n",
       " 'x': 1,\n",
       " 'y': 6,\n",
       " 'z': 1}"
      ]
     },
     "metadata": {},
     "output_type": "display_data"
    }
   ],
   "source": [
    "word_dickt = {}\n",
    "\n",
    "for i in sorted(words_str):\n",
    "    word_dickt[i] = words_str.count(i)\n",
    "del word_dickt[' ']\n",
    "display(word_dickt)\n",
    "    "
   ]
  },
  {
   "cell_type": "code",
   "execution_count": 11,
   "id": "5b18d799",
   "metadata": {},
   "outputs": [
    {
     "data": {
      "text/plain": [
       "20"
      ]
     },
     "execution_count": 11,
     "metadata": {},
     "output_type": "execute_result"
    }
   ],
   "source": [
    "words_str.count('a')"
   ]
  },
  {
   "cell_type": "markdown",
   "id": "94d9f1cc",
   "metadata": {},
   "source": [
    "Очікуваний результат: \n",
    "```\n",
    "{' ': 2,\n",
    " 'a': 20,\n",
    " 'b': 4,\n",
    " 'c': 8,\n",
    " 'd': 3,\n",
    " 'e': 24,\n",
    " 'f': 3,\n",
    " 'g': 7,\n",
    " 'h': 3,\n",
    " 'i': 15,\n",
    " 'j': 1,\n",
    " 'k': 2,\n",
    " 'l': 8,\n",
    " 'm': 5,\n",
    " 'n': 15,\n",
    " 'o': 5,\n",
    " 'p': 7,\n",
    " 'q': 1,\n",
    " 'r': 19,\n",
    " 's': 2,\n",
    " 't': 7,\n",
    " 'u': 6,\n",
    " 'v': 1,\n",
    " 'w': 4,\n",
    " 'x': 1,\n",
    " 'y': 6,\n",
    " 'z': 1}\n",
    " ```"
   ]
  },
  {
   "cell_type": "markdown",
   "id": "c93ac384",
   "metadata": {},
   "source": [
    "6.Використовуючи результат виконання попереднього завдання, виведіть на екран ту літеру, яка зустрічається найчастіше і скільки разів вона зустрічається. Це треба зробити програмно, а не просто подививщись на дані :) "
   ]
  },
  {
   "cell_type": "code",
   "execution_count": 29,
   "id": "9ddfb851",
   "metadata": {},
   "outputs": [
    {
     "name": "stdout",
     "output_type": "stream",
     "text": [
      "Літера e, зустрічається 24 рази\n"
     ]
    }
   ],
   "source": [
    "for key, value in word_dickt.items():\n",
    "    if value == max(word_dickt.values()):\n",
    "        print(f'Літера {key}, зустрічається {value} рази')"
   ]
  },
  {
   "cell_type": "markdown",
   "id": "f40adbed",
   "metadata": {},
   "source": [
    "7.Для кожного елементу списку виведіть тип елемену. Якщо тип обʼєкту - int (тільки цей тип безпосередньо!), виведіть результат піднесення цього числа до степеню 5."
   ]
  },
  {
   "cell_type": "code",
   "execution_count": 11,
   "id": "f92249ac",
   "metadata": {
    "ExecuteTime": {
     "end_time": "2023-06-13T12:53:04.365735Z",
     "start_time": "2023-06-13T12:53:04.362441Z"
    }
   },
   "outputs": [],
   "source": [
    "elements = [12, 'type', 'Bob', True, 'False', 1.414, 1444.333, 123/33, 5]"
   ]
  },
  {
   "cell_type": "code",
   "execution_count": 26,
   "id": "96b72186",
   "metadata": {},
   "outputs": [
    {
     "name": "stdout",
     "output_type": "stream",
     "text": [
      "The type of element 12 is int.\n",
      "This is a number! Let't take it to power 5! The result is: 248832\n",
      "The type of element type is str\n",
      "The type of element Bob is str\n",
      "The type of element True is bool\n",
      "The type of element False is str\n",
      "The type of element 1.414 is float\n",
      "The type of element 1444.333 is float\n",
      "The type of element 3.727272727272727 is float\n",
      "The type of element 5 is int.\n",
      "This is a number! Let't take it to power 5! The result is: 3125\n"
     ]
    }
   ],
   "source": [
    "for i in range(len(elements)):\n",
    "    if isinstance(elements[i], int) and not isinstance(elements[i], bool):\n",
    "        print(\"The type of element {} is int.\\nThis is a number! Let't take it to power 5! The result is: {}\".format(elements[i], elements[i]**5))\n",
    "    elif isinstance(elements[i], str) :\n",
    "        print(\"The type of element {} is str\".format(elements[i]))\n",
    "    elif isinstance(elements[i], float):\n",
    "        print(\"The type of element {} is float\".format(elements[i]))\n",
    "    elif isinstance(elements[i], bool):\n",
    "        print(\"The type of element {} is bool\".format(elements[i]))"
   ]
  },
  {
   "cell_type": "markdown",
   "id": "cf2247c7",
   "metadata": {
    "ExecuteTime": {
     "end_time": "2023-06-13T12:55:17.795510Z",
     "start_time": "2023-06-13T12:55:17.787158Z"
    }
   },
   "source": [
    "Приклад очікуваного результату (текстові коментарі і форматування можуть бути іншими):\n",
    "```\n",
    "    The type of element 12 is <class 'int'>\n",
    "    This is a number! Let't take it to power 5! The result is: 248832\n",
    "    The type of element type is <class 'str'>\n",
    "    The type of element Bob is <class 'str'>\n",
    "    The type of element True is <class 'bool'>\n",
    "    The type of element False is <class 'str'>\n",
    "    The type of element 1.414 is <class 'float'>\n",
    "    The type of element 1444.333 is <class 'float'>\n",
    "    The type of element 3.727272727272727 is <class 'float'>\n",
    "    The type of element 5 is <class 'int'>\n",
    "    This is a number! Let't take it to power 5! The result is: 3125\n",
    "```"
   ]
  },
  {
   "cell_type": "markdown",
   "id": "76a0bef2",
   "metadata": {},
   "source": [
    "8.Створіть програму, яка:\n",
    "\n",
    "- Для визначених значень `name` та `age` друкує повідомлення \"Привіт, [Ім’я] ! Вам [Вік] років.\".\n",
    "- Обчислює, скільки років залишилося користувачеві до 100 років, і друкує повідомлення з цією інформацією: \"До 100 років Вам лишилось [Число] років.\"  \n",
    "\n",
    "Запустіть програму для набору користувачів нижче."
   ]
  },
  {
   "cell_type": "code",
   "execution_count": 2,
   "id": "0092963a",
   "metadata": {
    "ExecuteTime": {
     "end_time": "2023-06-13T12:30:11.462941Z",
     "start_time": "2023-06-13T12:30:11.459673Z"
    }
   },
   "outputs": [],
   "source": [
    "users = [\n",
    "    ['Karl', 30],\n",
    "    ['Klara', 15],\n",
    "    ['Alexis', 56],\n",
    "    ['Charles', 99]\n",
    "]"
   ]
  },
  {
   "cell_type": "code",
   "execution_count": 3,
   "id": "d3089cc6",
   "metadata": {},
   "outputs": [
    {
     "data": {
      "text/plain": [
       "list"
      ]
     },
     "execution_count": 3,
     "metadata": {},
     "output_type": "execute_result"
    }
   ],
   "source": [
    "type(users)"
   ]
  },
  {
   "cell_type": "code",
   "execution_count": 5,
   "id": "8d6d820e",
   "metadata": {},
   "outputs": [
    {
     "name": "stdout",
     "output_type": "stream",
     "text": [
      "Привіт, Karl ! Вам 30 років! До ста років Вам залишилось 70 років.\n",
      "Привіт, Klara ! Вам 15 років! До ста років Вам залишилось 85 років.\n",
      "Привіт, Alexis ! Вам 56 років! До ста років Вам залишилось 44 років.\n",
      "Привіт, Charles ! Вам 99 років! До ста років Вам залишилось 1 років.\n"
     ]
    }
   ],
   "source": [
    "for i, y in users:\n",
    "    print(\"Привіт, {} ! Вам {} років! До ста років Вам залишилось {} років.\".format(i, y, 100 - y))"
   ]
  },
  {
   "cell_type": "markdown",
   "id": "45fedbc4",
   "metadata": {},
   "source": [
    "9.Напишть фрагмент коду, який перевіряє, чи слово є паліндромом. Слово (або фраза) є паліндромом, якщо при читанні його зворотньому напрямі буде таке саме слово.\n",
    "Наприклад, слово \"radar\" є паліндромом, але \"radix\" не є паліндромом. Код в кінці має видавати результат True або False.  \n",
    "Код має звертати увагу лише на символи-літери. Регістр літер не має значення, а знаки пунктуації (кома, крапка) та `-+=/\\`` мають бути вилучені з рядка перед перевіркою. Так само, пробіли не впливають на визначення,чи слово є палендромом. Мають значення лише літери.\n",
    "Тобто рядки \"A mam, a\" та \"A mamA\" є паліндромами, а \"AmamU\" - ні.\n",
    "\n",
    "Опціонально ви можете розмістити код на перевірку чи є слово паліндромом у фукнцію.\n",
    "Запустіть свій код для рядків з набору нижче і виведіть результат перевірки на екран для кожного рядка."
   ]
  },
  {
   "cell_type": "code",
   "execution_count": 2,
   "id": "4cca3eed",
   "metadata": {
    "ExecuteTime": {
     "end_time": "2023-06-13T12:24:02.288183Z",
     "start_time": "2023-06-13T12:24:02.285245Z"
    }
   },
   "outputs": [],
   "source": [
    "phrases_to_check = [\n",
    "    'radar',\n",
    "    'radix',\n",
    "    'A mam, a',\n",
    "    'A mamA',\n",
    "    'Sit on a potato pan Otis',\n",
    "    'Taco cat.',\n",
    "    'Taco cat',\n",
    "    'Tornado',\n",
    "    \"Go hang a salami, I'm a lasagna hog.\"\n",
    "]"
   ]
  },
  {
   "cell_type": "code",
   "execution_count": 24,
   "id": "becbec3c",
   "metadata": {},
   "outputs": [
    {
     "name": "stdout",
     "output_type": "stream",
     "text": [
      "radar - True\n",
      "radix - False\n",
      "A mam, a - True\n",
      "A mamA - True\n",
      "Sit on a potato pan Otis - True\n",
      "Taco cat. - True\n",
      "Taco cat - True\n",
      "Tornado - False\n",
      "Go hang a salami, I'm a lasagna hog. - True\n"
     ]
    }
   ],
   "source": [
    "cleaned_words = []\n",
    "\n",
    "for i in phrases_to_check:\n",
    "    cleaned_word = i.replace(\",\", \"\").replace(\" \", \"\").replace(\"'\", \"\").replace(\".\",\"\").lower()\n",
    "    cleaned_words.append(cleaned_word)\n",
    "    \n",
    "for y, x in zip(cleaned_words, phrases_to_check) :\n",
    "    if y == y[::-1]:\n",
    "        print(f\"{x} - True\")\n",
    "    else:\n",
    "        print(f\"{x} - False\")"
   ]
  },
  {
   "cell_type": "markdown",
   "id": "e51c421d",
   "metadata": {},
   "source": [
    "Очкувані результати обчислень:\n",
    "```\n",
    "    radar - True\n",
    "    radix - False\n",
    "    A mam, a - True\n",
    "    A mamA - True\n",
    "    Sit on a potato pan Otis - True\n",
    "    Taco cat. - True\n",
    "    Taco cat - True\n",
    "    Tornado - False\n",
    "    Go hang a salami, I'm a lasagna hog. - True\n",
    "```"
   ]
  },
  {
   "cell_type": "code",
   "execution_count": null,
   "id": "d8af5d5e",
   "metadata": {},
   "outputs": [],
   "source": []
  }
 ],
 "metadata": {
  "kernelspec": {
   "display_name": "Python 3 (ipykernel)",
   "language": "python",
   "name": "python3"
  },
  "language_info": {
   "codemirror_mode": {
    "name": "ipython",
    "version": 3
   },
   "file_extension": ".py",
   "mimetype": "text/x-python",
   "name": "python",
   "nbconvert_exporter": "python",
   "pygments_lexer": "ipython3",
   "version": "3.10.12"
  },
  "toc": {
   "base_numbering": 1,
   "nav_menu": {},
   "number_sections": true,
   "sideBar": true,
   "skip_h1_title": false,
   "title_cell": "Table of Contents",
   "title_sidebar": "Contents",
   "toc_cell": false,
   "toc_position": {},
   "toc_section_display": true,
   "toc_window_display": false
  }
 },
 "nbformat": 4,
 "nbformat_minor": 5
}
