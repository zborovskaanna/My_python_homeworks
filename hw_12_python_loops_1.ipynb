{
 "cells": [
  {
   "cell_type": "markdown",
   "id": "08f1c51f",
   "metadata": {
    "pycharm": {
     "name": "#%% md\n"
    }
   },
   "source": [
    "# Домашнє завдання до теми \"Python: Цикли\"\n",
    "В цьому ДЗ знову важливою умовою виконання завдань є те, що ми не імпортуємо жодних бібліотек, а робимо все на чистому Python, використовуючи лише базовий функціонал. Це необхідно аби відпрацювати роботу з базовими типами даних і циклами. А вже з наступного модуля ми во всю будемо використовувати бібліотеки :)"
   ]
  },
  {
   "cell_type": "markdown",
   "id": "4b644569",
   "metadata": {},
   "source": [
    "0.Розігрів. Напишіть цикл, який виводить на екран числа від 1 до 10 включно."
   ]
  },
  {
   "cell_type": "code",
   "execution_count": 1,
   "id": "bce14642",
   "metadata": {},
   "outputs": [
    {
     "name": "stdout",
     "output_type": "stream",
     "text": [
      "1; 2; 3; 4; 5; 6; 7; 8; 9; 10; "
     ]
    }
   ],
   "source": [
    "for i in range(1, 11):\n",
    "    print(i, end=\"; \")"
   ]
  },
  {
   "cell_type": "markdown",
   "id": "7b7351c7",
   "metadata": {},
   "source": [
    "**Початок покладено!**"
   ]
  },
  {
   "cell_type": "markdown",
   "id": "594b2248",
   "metadata": {},
   "source": [
    "Для наступних завдань у нас є наступний список:"
   ]
  },
  {
   "cell_type": "code",
   "execution_count": 3,
   "id": "032bd2d1",
   "metadata": {
    "ExecuteTime": {
     "end_time": "2023-10-15T21:30:22.640013Z",
     "start_time": "2023-10-15T21:30:22.637034Z"
    }
   },
   "outputs": [],
   "source": [
    "numbers = [42, 51, 29, 2, 13, 44, 80, 66, 16]"
   ]
  },
  {
   "cell_type": "markdown",
   "id": "fca24ff1",
   "metadata": {
    "pycharm": {
     "name": "#%% md\n"
    }
   },
   "source": [
    "1.Використовуючи цикл for cтворіть новий список `numbers_squared`, де кожен елемент списку `numbers` є домноженим на 2. Нагадаю, що фактично коли ми з допомогою циклу отримуємо новий список, то ми спочатку створюємо пустий список, а потім додаємо в нього новий елемент на кожній ітерації. Новий елемент буде в даному випадку результатом домножання чергового елемента вихідного списку `numbers` на 2."
   ]
  },
  {
   "cell_type": "code",
   "execution_count": 4,
   "id": "af40cb75",
   "metadata": {},
   "outputs": [
    {
     "name": "stdout",
     "output_type": "stream",
     "text": [
      "[84, 102, 58, 4, 26, 88, 160, 132, 32]\n"
     ]
    }
   ],
   "source": [
    "numbers_squared = []\n",
    "for i in numbers:\n",
    "    numbers_squared.append(i*2)\n",
    "print(numbers_squared)"
   ]
  },
  {
   "cell_type": "markdown",
   "id": "0dce0d8e",
   "metadata": {
    "pycharm": {
     "name": "#%% md\n"
    }
   },
   "source": [
    "Очікуваний результат: `[84, 102, 58, 4, 26, 88, 160, 132, 32]`"
   ]
  },
  {
   "cell_type": "markdown",
   "id": "f5f56f80",
   "metadata": {},
   "source": [
    "2.Використовуючи `list comprehension` cтворіть новий список `numbers_squared_lh`, де кожен елемент списку `numbers` є домноженим 2.\n",
    "Так, операція, яку ми викнуємо над кожним елементом вихідного списку, та сама, що і в попередньому завданні, але інший спосіб отримання результату."
   ]
  },
  {
   "cell_type": "code",
   "execution_count": 9,
   "id": "57e297b4",
   "metadata": {},
   "outputs": [
    {
     "name": "stdout",
     "output_type": "stream",
     "text": [
      "[84, 102, 58, 4, 26, 88, 160, 132, 32]\n"
     ]
    }
   ],
   "source": [
    "numbers_squared_lh = [i*2 for i in numbers]\n",
    "print(numbers_squared_lh)\n"
   ]
  },
  {
   "cell_type": "markdown",
   "id": "a059713f",
   "metadata": {},
   "source": [
    "Очікуваний результат: `[84, 102, 58, 4, 26, 88, 160, 132, 32]`"
   ]
  },
  {
   "cell_type": "markdown",
   "id": "9af1b295",
   "metadata": {},
   "source": [
    "3.Задано два списки в клітинці нижче - `a` і `b`. Створіть цикл, результатом якого буде список `result`, що містить елементи типу bool і який фактично каже, \n",
    "\"чи на цьому індексі елементи наших двох списків співпадають\". Приклад:\n",
    "```\n",
    "a = [1, 2, 3, 6]\n",
    "b = [1, 7, 3, 6]\n",
    "# ми виконали поелементне порівняння двох списків і отримали новий список result\n",
    "# result містить наступний результат -> [True, False, True, True]\n",
    "```\n",
    "В кінці виведіть вміст result на екран."
   ]
  },
  {
   "cell_type": "code",
   "execution_count": 10,
   "id": "e3c74566",
   "metadata": {
    "ExecuteTime": {
     "end_time": "2023-10-15T21:35:52.901779Z",
     "start_time": "2023-10-15T21:35:52.895422Z"
    }
   },
   "outputs": [],
   "source": [
    "a = [64, 93, 60, 95, 66, 9, 15, 55, 77, 28, 74, 100, 13, 1, 85, 48, 66, 65, 59, 32]\n",
    "b = [64, 93, 60, 95, 66, 9, 15, 56, 77, 28, 74, 100, 13, 1, 85, 48, 67, 65, 59, 32]"
   ]
  },
  {
   "cell_type": "code",
   "execution_count": 16,
   "id": "55281d4c",
   "metadata": {},
   "outputs": [
    {
     "name": "stdout",
     "output_type": "stream",
     "text": [
      "[True, True, True, True, True, True, True, False, True, True, True, True, True, True, True, True, False, True, True, True]\n"
     ]
    }
   ],
   "source": [
    "result = []\n",
    "for i in range(len(a)):\n",
    "    result.append(a[i]==b[i])\n",
    "print(result)"
   ]
  },
  {
   "cell_type": "markdown",
   "id": "c267a553",
   "metadata": {
    "pycharm": {
     "name": "#%% md\n"
    }
   },
   "source": [
    "4.Давайте знайдемо середнє арифметичне значення елементів списку `numbers` округлене до 2 цифр після коми та запишемо його у змінну `numbers_mean`. Для цього виконаємо два простих кроки.\n",
    "1. Знайдіть суму всіх елементів списку `numbers` та запишіть її у змінну `numbers_sum`.\n",
    "2. Обчисліть `numbers_mean` шляхом ділення суми елементів у списку на їх кількість. Кількість елементів в списку - це його довжина.\n",
    "\n",
    "Виведіть `numbers_mean`, округлений до 2 цифр після коми, на екран.\n",
    "\n",
    "**Підказка**: округлити число можна з використанням вбудованої функції Python [round()](https://docs.python.org/3/library/functions.html#round)."
   ]
  },
  {
   "cell_type": "code",
   "execution_count": 6,
   "id": "f4c9deaf",
   "metadata": {},
   "outputs": [
    {
     "data": {
      "text/plain": [
       "38.11"
      ]
     },
     "execution_count": 6,
     "metadata": {},
     "output_type": "execute_result"
    }
   ],
   "source": [
    "numbers_sum = sum(numbers)\n",
    "numbers_mean = numbers_sum/len(numbers)\n",
    "round(numbers_mean, 2)"
   ]
  },
  {
   "cell_type": "markdown",
   "id": "3c93580f",
   "metadata": {},
   "source": [
    "Очікуваний результат: `38.11`"
   ]
  },
  {
   "cell_type": "markdown",
   "id": "079359aa",
   "metadata": {
    "pycharm": {
     "name": "#%% md\n"
    }
   },
   "source": [
    "5.Використовуючи цикл, створіть новий список `numbers_gt_mean`, який порівнює кожен елемент з середнім значенням за списокм, знайденим в попередньому завданні, за наступним правилом: \"якщо цей елемент спиcку `numbers` є більшим за `numbers_mean`, то запишемо 1, інакше 0\". Виведіть новий список на екран."
   ]
  },
  {
   "cell_type": "code",
   "execution_count": 7,
   "id": "ad1600f1",
   "metadata": {},
   "outputs": [
    {
     "name": "stdout",
     "output_type": "stream",
     "text": [
      "[1, 1, 0, 0, 0, 1, 1, 1, 0]\n"
     ]
    }
   ],
   "source": [
    "numbers_gt_mean = []\n",
    "for i in range(len(numbers)):\n",
    "    if numbers[i] > numbers_mean:\n",
    "        numbers_gt_mean.append(1)\n",
    "    else:\n",
    "        numbers_gt_mean.append(0)\n",
    "print(numbers_gt_mean)"
   ]
  },
  {
   "cell_type": "markdown",
   "id": "3079f1e6",
   "metadata": {},
   "source": [
    "Очікуваний результат: `[1, 1, 0, 0, 0, 1, 1, 1, 0]`"
   ]
  },
  {
   "cell_type": "markdown",
   "id": "340637e7",
   "metadata": {},
   "source": [
    "6.Отримайте список за тим самим правилом, що в завданні 5, тільки тепер з list comprehension. Результат запишіть у змінну `numbers_gt_mean_lc`"
   ]
  },
  {
   "cell_type": "code",
   "execution_count": 11,
   "id": "6b2b4bd1",
   "metadata": {},
   "outputs": [
    {
     "name": "stdout",
     "output_type": "stream",
     "text": [
      "[1, 1, 0, 0, 0, 1, 1, 1, 0]\n"
     ]
    }
   ],
   "source": [
    "numbers_gt_mean_ls = [1 if numbers[i] > numbers_mean else 0 for i in range(len(numbers))]\n",
    "print(numbers_gt_mean_ls)"
   ]
  },
  {
   "cell_type": "markdown",
   "id": "eef1aae7",
   "metadata": {
    "pycharm": {
     "name": "#%% md\n"
    }
   },
   "source": [
    "7.Задано список `a` і елемент `element`. Перевірте програмно чи є в списку `a` елемент `element` з допомогою інструкцій `if ... else`. Виведіть на екран відповідь \"Так, є\", якщо цей елемент в списку присутній, або \"Ні, нема\", якщо його там немає.\n",
    "Важливо це зробити без використання імпортів будь-яких бібліотек."
   ]
  },
  {
   "cell_type": "code",
   "execution_count": 12,
   "id": "766170f3",
   "metadata": {
    "ExecuteTime": {
     "end_time": "2023-10-15T22:00:51.302427Z",
     "start_time": "2023-10-15T22:00:51.298616Z"
    },
    "pycharm": {
     "name": "#%%\n"
    }
   },
   "outputs": [],
   "source": [
    "a = [64, 93, 60, 95, 66, 9, 15, 55, 77, 28, 74, 100, 13, 1, 85, 48, 66, 65, 59, 32]\n",
    "element = 33"
   ]
  },
  {
   "cell_type": "code",
   "execution_count": 16,
   "id": "15de59be",
   "metadata": {},
   "outputs": [
    {
     "name": "stdout",
     "output_type": "stream",
     "text": [
      "Ні, нема\n"
     ]
    }
   ],
   "source": [
    "if element in a:\n",
    "    print('Так,є')\n",
    "else:\n",
    "    print('Ні, нема')"
   ]
  },
  {
   "cell_type": "markdown",
   "id": "0d1d63f5",
   "metadata": {},
   "source": [
    "8.Тепер у нас не один елемент, а кілька. Вони наведені в змінній `elements`. За допомогою циклу і інструкцій `if ... else` для кожного елемента списку `elements` перевірте, чи він є в списку `a`. \n",
    "Виведіть на екран відповідь \"Так, є елемент <вставити значення елемента>\", якщо елемент в списку присутній, або \"Ні, нема елемента <вставити значення елемента>\", якщо його там немає."
   ]
  },
  {
   "cell_type": "code",
   "execution_count": 17,
   "id": "9493772e",
   "metadata": {
    "ExecuteTime": {
     "end_time": "2023-10-15T22:05:24.312550Z",
     "start_time": "2023-10-15T22:05:24.309691Z"
    }
   },
   "outputs": [],
   "source": [
    "elements = [44, 66, 77, 100]"
   ]
  },
  {
   "cell_type": "code",
   "execution_count": 18,
   "id": "862ffd6c",
   "metadata": {},
   "outputs": [
    {
     "name": "stdout",
     "output_type": "stream",
     "text": [
      "Ні, нема елемента 44\n",
      "Так, є елемент 66\n",
      "Так, є елемент 77\n",
      "Так, є елемент 100\n"
     ]
    }
   ],
   "source": [
    "for i in range(len(elements)):\n",
    "    if elements[i] in a:\n",
    "        print(f'Так, є елемент {elements[i]}')\n",
    "    else:\n",
    "        print(f'Ні, нема елемента {elements[i]}')"
   ]
  },
  {
   "cell_type": "markdown",
   "id": "cee3dda8",
   "metadata": {
    "pycharm": {
     "name": "#%% md\n"
    }
   },
   "source": [
    "9.Заданий список `long`. З допомогою циклу створіть словник `n_repeats`, який містить інформацію \"скільки разів повторюється кожен унікальний елемент списку `long`\".\n",
    "Наприклад:\n",
    "```\n",
    "long = [1, 1, 2, 2, 3]\n",
    "# тоді `n_repeats` містить {1: 2, 2: 2, 3: 1}\n",
    "```\n",
    "\n",
    "Аби для кожного унікального елементу знайти, скільки разів він повторюється, виористайте метод списку `list.count(<елемент>)`. \n",
    "Виведіть `n_repeats` на екран. \n",
    "\n",
    "**Підказки**: \n",
    "1. Для початку може бути зручно отримати набір унікальних елементів списку.\n",
    "2. Порядок ключів в словнику не має значення! Тобто ключі в словнику не обовʼязково мають бути в тому ж порядку, як наведено в прикладі результату. Але кількості зустрічань для кожного елемента мають співпадати з наведеними. "
   ]
  },
  {
   "cell_type": "code",
   "execution_count": 19,
   "id": "635b5f09",
   "metadata": {
    "ExecuteTime": {
     "end_time": "2023-10-15T22:08:04.248991Z",
     "start_time": "2023-10-15T22:08:04.245858Z"
    }
   },
   "outputs": [],
   "source": [
    "long = [75, 39, 95, 1, 91, 43, 97, 24, 86, 75, 92, 91, 15, 15, 75, 95, 54, 29, 55, 98]"
   ]
  },
  {
   "cell_type": "code",
   "execution_count": 26,
   "id": "7b8cca43",
   "metadata": {},
   "outputs": [
    {
     "name": "stdout",
     "output_type": "stream",
     "text": [
      "[1, 97, 98, 39, 75, 43, 15, 55, 86, 54, 24, 91, 92, 29, 95]\n"
     ]
    }
   ],
   "source": [
    "uniq_elements = list(set(long))\n",
    "print(uniq_elements)"
   ]
  },
  {
   "cell_type": "code",
   "execution_count": 28,
   "id": "771685ed",
   "metadata": {},
   "outputs": [
    {
     "name": "stdout",
     "output_type": "stream",
     "text": [
      "{1: 1, 97: 1, 98: 1, 39: 1, 75: 3, 43: 1, 15: 2, 55: 1, 86: 1, 54: 1, 24: 1, 91: 2, 92: 1, 29: 1, 95: 2}\n"
     ]
    }
   ],
   "source": [
    "n_repeats = {}\n",
    "for i in range(len(uniq_elements)):\n",
    "    n_repeats[uniq_elements[i]] = long.count(uniq_elements[i])\n",
    "print(n_repeats)\n",
    "    \n",
    "    "
   ]
  },
  {
   "cell_type": "markdown",
   "id": "9858eefd",
   "metadata": {
    "pycharm": {
     "name": "#%% md\n"
    }
   },
   "source": [
    "Очікуваний результат: \n",
    "```\n",
    "{1: 1, 97: 1, 98: 1, 39: 1, 75: 3, 43: 1, 15: 2, 55: 1, 86: 1, 54: 1, 24: 1, 91: 2, 92: 1, 29: 1, 95: 2}\n",
    "\n",
    "```"
   ]
  },
  {
   "cell_type": "markdown",
   "id": "857b864c",
   "metadata": {},
   "source": [
    "10.Виконайте ту саму операцію, що і в попередньому заваднні, але використовуючи `dict comprehension`. Результат запишіть у змінну `n_repeats_dh` та результат виведіть на екран. "
   ]
  },
  {
   "cell_type": "code",
   "execution_count": 45,
   "id": "7c925ea0",
   "metadata": {},
   "outputs": [
    {
     "name": "stdout",
     "output_type": "stream",
     "text": [
      "{1: 1, 97: 1, 98: 1, 39: 1, 75: 3, 43: 1, 15: 2, 55: 1, 86: 1, 54: 1, 24: 1, 91: 2, 92: 1, 29: 1, 95: 2}\n"
     ]
    }
   ],
   "source": [
    "n_repeats_dh = {uniq_elements[i]:long.count(uniq_elements[i]) for i in range(len(uniq_elements))}\n",
    "print(n_repeats_dh)\n",
    "                                                                                            "
   ]
  },
  {
   "cell_type": "markdown",
   "id": "10c98ea7",
   "metadata": {
    "pycharm": {
     "name": "#%% md\n"
    }
   },
   "source": [
    "11.Знайдіть три найменші **унікальні** елементи в списку `long` та виведіть їх на екран."
   ]
  },
  {
   "cell_type": "code",
   "execution_count": 54,
   "id": "44597827",
   "metadata": {},
   "outputs": [
    {
     "name": "stdout",
     "output_type": "stream",
     "text": [
      "[1, 15, 24]\n"
     ]
    }
   ],
   "source": [
    "sort_list = sorted(uniq_elements)\n",
    "print(sort_list[0:3])"
   ]
  },
  {
   "cell_type": "markdown",
   "id": "672d2981",
   "metadata": {
    "pycharm": {
     "name": "#%% md\n"
    }
   },
   "source": [
    "Очікувана відповідь: [1, 15, 24]\n"
   ]
  }
 ],
 "metadata": {
  "kernelspec": {
   "display_name": "Python 3 (ipykernel)",
   "language": "python",
   "name": "python3"
  },
  "language_info": {
   "codemirror_mode": {
    "name": "ipython",
    "version": 3
   },
   "file_extension": ".py",
   "mimetype": "text/x-python",
   "name": "python",
   "nbconvert_exporter": "python",
   "pygments_lexer": "ipython3",
   "version": "3.10.12"
  },
  "toc": {
   "base_numbering": 1,
   "nav_menu": {},
   "number_sections": true,
   "sideBar": true,
   "skip_h1_title": false,
   "title_cell": "Table of Contents",
   "title_sidebar": "Contents",
   "toc_cell": false,
   "toc_position": {},
   "toc_section_display": true,
   "toc_window_display": false
  }
 },
 "nbformat": 4,
 "nbformat_minor": 5
}
